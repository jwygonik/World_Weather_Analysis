{
 "cells": [
  {
   "cell_type": "code",
   "execution_count": 1,
   "id": "6669caf1",
   "metadata": {},
   "outputs": [],
   "source": [
    "# Import the random mod\n",
    "\n",
    "import random"
   ]
  },
  {
   "cell_type": "code",
   "execution_count": 2,
   "id": "530598b6",
   "metadata": {},
   "outputs": [
    {
     "data": {
      "text/plain": [
       "21"
      ]
     },
     "execution_count": 2,
     "metadata": {},
     "output_type": "execute_result"
    }
   ],
   "source": [
    "# randint = random integer\n",
    "\n",
    "random.randint(-90, 90)"
   ]
  },
  {
   "cell_type": "code",
   "execution_count": 3,
   "id": "677fc351",
   "metadata": {},
   "outputs": [
    {
     "data": {
      "text/plain": [
       "0.46069099681617454"
      ]
     },
     "execution_count": 3,
     "metadata": {},
     "output_type": "execute_result"
    }
   ],
   "source": [
    "# random function returns single floating point decimal number between 0 and 1.0 \n",
    "\n",
    "random.random()"
   ]
  },
  {
   "cell_type": "code",
   "execution_count": 4,
   "id": "7a90a755",
   "metadata": {},
   "outputs": [
    {
     "data": {
      "text/plain": [
       "-86.5457294725384"
      ]
     },
     "execution_count": 4,
     "metadata": {},
     "output_type": "execute_result"
    }
   ],
   "source": [
    "# combine random.random() + random.randint() into new variable to generate a number for lat/long\n",
    "\n",
    "random_number = random.randint(-90, 89) + random.random()\n",
    "random_number"
   ]
  },
  {
   "cell_type": "code",
   "execution_count": 5,
   "id": "0b1cda46",
   "metadata": {},
   "outputs": [],
   "source": [
    "# writing an algorithm that will generate latitudes between -90 and 89\n",
    "\n",
    "# assign variable x to one\n",
    "x = 1\n",
    "\n",
    "# initialize empty list\n",
    "latitudes = []\n",
    "\n",
    "# creat a while loop \n",
    "while x < 11: \n",
    "    random_lat = random.randint(-90, 89) + random.random()\n",
    "    latitudes.append(random_lat)\n",
    "    x += 1\n",
    "    \n"
   ]
  },
  {
   "cell_type": "code",
   "execution_count": 8,
   "id": "01f3c66e",
   "metadata": {},
   "outputs": [
    {
     "data": {
      "text/plain": [
       "13"
      ]
     },
     "execution_count": 8,
     "metadata": {},
     "output_type": "execute_result"
    }
   ],
   "source": [
    "# The Randrange function - option to add a step parameter and set it equal to an integer, which will generate increments of a given integer value, from the lower to the upper limit.\n",
    "\n",
    "random.randrange(-90, 90, step=1)\n",
    "\n"
   ]
  },
  {
   "cell_type": "code",
   "execution_count": 13,
   "id": "e6ec9a4d",
   "metadata": {},
   "outputs": [
    {
     "data": {
      "text/plain": [
       "-30"
      ]
     },
     "execution_count": 13,
     "metadata": {},
     "output_type": "execute_result"
    }
   ],
   "source": [
    "random.randrange(-90, 90, step=3)"
   ]
  },
  {
   "cell_type": "code",
   "execution_count": 14,
   "id": "71f31ef1",
   "metadata": {},
   "outputs": [
    {
     "data": {
      "text/plain": [
       "-43.09756527977294"
      ]
     },
     "execution_count": 14,
     "metadata": {},
     "output_type": "execute_result"
    }
   ],
   "source": [
    "# the uniform() function - allow us to generate a floating-point decimal number between 2 given numbers in ()\n",
    "\n",
    "random.uniform(-90, 90)"
   ]
  },
  {
   "cell_type": "code",
   "execution_count": 17,
   "id": "c94606a6",
   "metadata": {},
   "outputs": [
    {
     "data": {
      "text/plain": [
       "69.92854427631161"
      ]
     },
     "execution_count": 17,
     "metadata": {},
     "output_type": "execute_result"
    }
   ],
   "source": [
    "import numpy as np\n",
    "\n",
    "np.random.uniform(-90.000, 90.000)\n",
    "\n",
    "# can also write as np.random.uniform(low=-90, high=90)"
   ]
  },
  {
   "cell_type": "code",
   "execution_count": 18,
   "id": "dc5e433c",
   "metadata": {},
   "outputs": [
    {
     "data": {
      "text/plain": [
       "array([ -5.28469531,  79.49676204,  73.84103364, -41.99752163,\n",
       "       -78.11311586, -53.22982373,  21.95342478, -86.90867931,\n",
       "        69.81199696,  66.55389625,  51.29036364,  81.77937354,\n",
       "       -80.09837239, -40.74178777,  75.79477433,  69.54393873,\n",
       "        32.91095395, -55.28392618,  23.95124406,  63.93944508,\n",
       "        10.21322018,  59.58925482, -33.79388831,  59.10765906,\n",
       "       -63.04050725,  -3.57873099,  88.33746247,   1.70422375,\n",
       "        81.39693203, -11.34130581, -32.23810156,  61.09501409,\n",
       "        14.13725439,  51.18264722,  -6.23847567, -40.06680033,\n",
       "       -46.38846194, -20.01231273,  32.24685237, -55.85972142,\n",
       "       -52.72702178,  37.38634954, -51.71063693, -67.91671883,\n",
       "       -38.35825044, -82.95483513,  72.44404442,  57.1746446 ,\n",
       "       -43.42592934, -48.02533462])"
      ]
     },
     "execution_count": 18,
     "metadata": {},
     "output_type": "execute_result"
    }
   ],
   "source": [
    "# to generate more than 1 floating point decimal, add size parameter\n",
    "\n",
    "np.random.uniform(-90.000, 90.000, size=50)"
   ]
  },
  {
   "cell_type": "code",
   "execution_count": 23,
   "id": "55f718c6",
   "metadata": {},
   "outputs": [],
   "source": [
    "#Import time it module\n",
    "import timeit"
   ]
  },
  {
   "cell_type": "code",
   "execution_count": 24,
   "id": "23ebe9c6",
   "metadata": {},
   "outputs": [
    {
     "name": "stdout",
     "output_type": "stream",
     "text": [
      "12 µs ± 22.2 ns per loop (mean ± std. dev. of 7 runs, 100000 loops each)\n"
     ]
    }
   ],
   "source": [
    "%timeit np.random.uniform(-90.000, 90.000, size=1500)"
   ]
  },
  {
   "cell_type": "code",
   "execution_count": 29,
   "id": "882d5863",
   "metadata": {},
   "outputs": [
    {
     "name": "stdout",
     "output_type": "stream",
     "text": [
      "787 ns ± 2.24 ns per loop (mean ± std. dev. of 7 runs, 1000000 loops each)\n"
     ]
    }
   ],
   "source": [
    "def latitudes(size):\n",
    "    latitudes = []\n",
    "    x = 0\n",
    "    while x < (size):\n",
    "        random_lat = random.randint(-90, 90) + random.random()\n",
    "        latitudes.append(random_lat)\n",
    "        x += 1\n",
    "        return latitudes\n",
    "    \n",
    "    \n",
    "# Call the function w/ 1500 \n",
    "\n",
    "%timeit latitudes(1500)"
   ]
  },
  {
   "cell_type": "code",
   "execution_count": 32,
   "id": "8c1adc2e",
   "metadata": {},
   "outputs": [],
   "source": [
    "# Skill drill For loop\n",
    "\n",
    "#for latitude in latitudes:\n",
    "    #step = np.random.randint(-90, 90)"
   ]
  },
  {
   "cell_type": "code",
   "execution_count": null,
   "id": "4a601e67",
   "metadata": {},
   "outputs": [],
   "source": []
  }
 ],
 "metadata": {
  "kernelspec": {
   "display_name": "PythonData",
   "language": "python",
   "name": "pythondata"
  },
  "language_info": {
   "codemirror_mode": {
    "name": "ipython",
    "version": 3
   },
   "file_extension": ".py",
   "mimetype": "text/x-python",
   "name": "python",
   "nbconvert_exporter": "python",
   "pygments_lexer": "ipython3",
   "version": "3.9.7"
  }
 },
 "nbformat": 4,
 "nbformat_minor": 5
}
